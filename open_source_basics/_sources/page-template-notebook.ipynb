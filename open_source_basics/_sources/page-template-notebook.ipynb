{
 "cells": [
  {
   "cell_type": "markdown",
   "metadata": {},
   "source": [
    "# My page name\n",
    "\n",
    "The opening paragraph of my page within the same markdown cell of the notebook."
   ]
  },
  {
   "cell_type": "markdown",
   "metadata": {},
   "source": [
    "## Using this template\n",
    "\n",
    "Copy this notebook to create new pages, or just create them and refer back to this page as needed. Add sections as needed by adding one or more cells to the notebook. Use your choice of markdown or code in each cell.\n",
    "\n",
    "### Header styling\n",
    "\n",
    "Keep your headers simple yet specific so it's easy for someone to identify exactly what's in that section. Also, use [sentence case](https://apastyle.apa.org/style-grammar-guidelines/capitalization/sentence-case) to ease readability.\n",
    "\n",
    "### Breaking up your content\n",
    "\n",
    "The information on a single page like this should be direct and easy to consume. For training, **think of what you'd like to see in a training presentation (simple, concise, direct)**, not documentation (lenghy, comprehensive). \n",
    "\n",
    "### Point to docs for ongoing reference\n",
    "\n",
    "Training is a one-time path to success and **is not** a substitution for documentation. Training aims to achieve its [learning objectives](intro.md) while referring learners to documentation resources they can use for ongoing reference. \n",
    "\n",
    "***If those docs don't exist, you should create those first before creating training!***\n"
   ]
  },
  {
   "cell_type": "markdown",
   "metadata": {},
   "source": [
    "## Mixed markdown section\n",
    "\n",
    "You can also use HTML code mixed in when you need to do something you can't do with other markdown languages. Below is how you might use HTML to add an image when you want to ensure it's centered, padded, and scaled to a certain width.\n",
    "\n",
    "<center><img src=\"image-operatefirst-sample.png\" width=\"400px\" style=\"padding: 30px\"></center>"
   ]
  },
  {
   "cell_type": "markdown",
   "metadata": {},
   "source": [
    "## Tables can be tricky\n",
    "\n",
    "While markdown tables are simple to code, they have limited features and can be difficult to format. You can also use any online HTML table builder and create some code you can drop in directly:\n",
    "\n",
    "<div><style type=\"text/css\">\n",
    ".tg {border-color:#eee;border-width:2px}\n",
    ".tg td{background-color:#fff;color:#333; font-family:Arial, sans-serif;font-size:14px;\n",
    "  padding:10px 5px;word-break:normal;text-align:left}\n",
    ".tg th{background-color:#be0000;color:#fff;font-family:Arial, sans-serif;font-size:14px;font-weight:bold;\n",
    "  padding:10px 5px;word-break:normal;text-align:left}\n",
    "</style>\n",
    "<table class=\"tg\">\n",
    "<thead>\n",
    "  <tr>\n",
    "    <th>COLUMN 1 HEADER</th>\n",
    "    <th>COLUMN 2 HEADER</th>\n",
    "    <th>COLUMN 3 HEADER</th>\n",
    "  </tr>\n",
    "</thead>\n",
    "<tbody>\n",
    "  <tr>\n",
    "    <td>C1 R2 content</td>\n",
    "    <td>C2 R2 content</td>\n",
    "    <td>C3 R2 content</td>\n",
    "  </tr>\n",
    "  <tr>\n",
    "    <td>C1 R3 content</td>\n",
    "    <td>C2 R3 content</td>\n",
    "    <td>C3 R3 content</td>\n",
    "  </tr>\n",
    "</tbody>\n",
    "</table></div>"
   ]
  },
  {
   "cell_type": "code",
   "execution_count": null,
   "metadata": {},
   "outputs": [],
   "source": []
  }
 ],
 "metadata": {
  "kernelspec": {
   "display_name": "Python 3 (ipykernel)",
   "language": "python",
   "name": "python3"
  },
  "language_info": {
   "codemirror_mode": {
    "name": "ipython",
    "version": 3
   },
   "file_extension": ".py",
   "mimetype": "text/x-python",
   "name": "python",
   "nbconvert_exporter": "python",
   "pygments_lexer": "ipython3",
   "version": "3.9.10"
  },
  "widgets": {
   "application/vnd.jupyter.widget-state+json": {
    "state": {},
    "version_major": 2,
    "version_minor": 0
   }
  }
 },
 "nbformat": 4,
 "nbformat_minor": 4
}
